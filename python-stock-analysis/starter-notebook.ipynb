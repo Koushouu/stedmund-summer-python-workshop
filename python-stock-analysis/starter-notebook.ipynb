{
 "cells": [
  {
   "cell_type": "code",
   "execution_count": null,
   "id": "77dbb130",
   "metadata": {},
   "outputs": [],
   "source": [
    "! pip install yfinance"
   ]
  },
  {
   "cell_type": "code",
   "execution_count": null,
   "id": "161be6ab",
   "metadata": {},
   "outputs": [],
   "source": [
    "import pandas as pd\n",
    "import numpy as np\n",
    "import matplotlib.pyplot as plt\n",
    "import seaborn as sns\n",
    "import yfinance as yf\n",
    "from datetime import datetime"
   ]
  },
  {
   "cell_type": "markdown",
   "id": "2e216848",
   "metadata": {},
   "source": [
    "## What was the change in price of the stock overtime? Descriptive statistics"
   ]
  },
  {
   "cell_type": "code",
   "execution_count": null,
   "id": "9bfedde9",
   "metadata": {},
   "outputs": [],
   "source": [
    "# The tech stocks we'll use for this analysis\n",
    "company_codes = ['AAPL', 'GOOG', 'MSFT', 'AMZN', 'BABA', 'TSLA']\n",
    "company_name = [\"APPLE\", \"GOOGLE\", \"MICROSOFT\", \"AMAZON\", \"ALIBABA\", \"TESLA\"]\n",
    "\n",
    "end = datetime.now()\n",
    "start = datetime(end.year - 1, end.month, end.day)"
   ]
  },
  {
   "cell_type": "markdown",
   "id": "3f6deb92",
   "metadata": {},
   "source": [
    "## Moving average analysis"
   ]
  },
  {
   "cell_type": "code",
   "execution_count": null,
   "id": "ac0d811f",
   "metadata": {},
   "outputs": [],
   "source": [
    "# Hint: .rolling(window=xx).mean()"
   ]
  },
  {
   "cell_type": "markdown",
   "id": "29bb0c35",
   "metadata": {},
   "source": [
    "## Analysis of returns, correlation between stocks"
   ]
  },
  {
   "cell_type": "code",
   "execution_count": null,
   "id": "6fa12c27",
   "metadata": {},
   "outputs": [],
   "source": []
  },
  {
   "cell_type": "markdown",
   "id": "2a08b7f2",
   "metadata": {},
   "source": [
    "## Analysis of risk-return relationship"
   ]
  },
  {
   "cell_type": "code",
   "execution_count": null,
   "id": "af59cf65",
   "metadata": {},
   "outputs": [],
   "source": []
  }
 ],
 "metadata": {
  "kernelspec": {
   "display_name": "sted-workshop-venv",
   "language": "python",
   "name": "python3"
  },
  "language_info": {
   "name": "python",
   "version": "3.11.13"
  }
 },
 "nbformat": 4,
 "nbformat_minor": 5
}
