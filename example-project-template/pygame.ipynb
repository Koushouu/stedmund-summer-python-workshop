{
 "cells": [
  {
   "cell_type": "markdown",
   "id": "54448532",
   "metadata": {},
   "source": [
    "# Pygame example notebook"
   ]
  },
  {
   "cell_type": "markdown",
   "id": "546b9914",
   "metadata": {},
   "source": [
    "Ideas for Expansion:\n",
    "- Add obstacles or walls using rectangles.\n",
    "- Animate the character using sprite sheets.\n",
    "- Make it a game: add goals (collect coins, avoid enemies).\n",
    "- Physics: acceleration, friction.\n",
    "- Mouse interaction or enemy AI."
   ]
  },
  {
   "cell_type": "code",
   "execution_count": 1,
   "id": "8df2d4d9",
   "metadata": {},
   "outputs": [
    {
     "name": "stdout",
     "output_type": "stream",
     "text": [
      "Collecting pygame\n",
      "  Using cached pygame-2.6.1-cp311-cp311-win_amd64.whl.metadata (13 kB)\n",
      "Using cached pygame-2.6.1-cp311-cp311-win_amd64.whl (10.6 MB)\n",
      "Installing collected packages: pygame\n",
      "Successfully installed pygame-2.6.1\n"
     ]
    }
   ],
   "source": [
    "!pip install pygame"
   ]
  },
  {
   "cell_type": "code",
   "execution_count": 1,
   "id": "e6f70994",
   "metadata": {},
   "outputs": [
    {
     "name": "stdout",
     "output_type": "stream",
     "text": [
      "pygame 2.6.1 (SDL 2.28.4, Python 3.11.13)\n",
      "Hello from the pygame community. https://www.pygame.org/contribute.html\n"
     ]
    },
    {
     "ename": "SystemExit",
     "evalue": "",
     "output_type": "error",
     "traceback": [
      "An exception has occurred, use %tb to see the full traceback.\n",
      "\u001b[31mSystemExit\u001b[39m\n"
     ]
    },
    {
     "name": "stderr",
     "output_type": "stream",
     "text": [
      "c:\\Users\\kou12\\miniconda3\\envs\\xidian-venv\\Lib\\site-packages\\IPython\\core\\interactiveshell.py:3707: UserWarning: To exit: use 'exit', 'quit', or Ctrl-D.\n",
      "  warn(\"To exit: use 'exit', 'quit', or Ctrl-D.\", stacklevel=1)\n"
     ]
    }
   ],
   "source": [
    "import pygame\n",
    "import sys\n",
    "\n",
    "# Initialize Pygame\n",
    "pygame.init()\n",
    "\n",
    "# Set up the screen\n",
    "WIDTH, HEIGHT = 800, 600\n",
    "screen = pygame.display.set_mode((WIDTH, HEIGHT))\n",
    "pygame.display.set_caption(\"2D Character Movement\")\n",
    "\n",
    "# Set up the character\n",
    "player_color = (50, 150, 255)\n",
    "player_size = 50\n",
    "player_x = WIDTH // 2\n",
    "player_y = HEIGHT // 2\n",
    "player_speed = 5\n",
    "\n",
    "# Clock for FPS control\n",
    "clock = pygame.time.Clock()\n",
    "\n",
    "# Game loop\n",
    "running = True\n",
    "while running:\n",
    "    clock.tick(60)  # limit to 60 frames per second\n",
    "\n",
    "    # Handle events\n",
    "    for event in pygame.event.get():\n",
    "        if event.type == pygame.QUIT:\n",
    "            running = False\n",
    "\n",
    "    # Get pressed keys\n",
    "    keys = pygame.key.get_pressed()\n",
    "\n",
    "    # Move character\n",
    "    if keys[pygame.K_LEFT] or keys[pygame.K_a]:\n",
    "        player_x -= player_speed\n",
    "    if keys[pygame.K_RIGHT] or keys[pygame.K_d]:\n",
    "        player_x += player_speed\n",
    "    if keys[pygame.K_UP] or keys[pygame.K_w]:\n",
    "        player_y -= player_speed\n",
    "    if keys[pygame.K_DOWN] or keys[pygame.K_s]:\n",
    "        player_y += player_speed\n",
    "\n",
    "    # Keep player on screen\n",
    "    player_x = max(0, min(WIDTH - player_size, player_x))\n",
    "    player_y = max(0, min(HEIGHT - player_size, player_y))\n",
    "\n",
    "    # Draw everything\n",
    "    screen.fill((30, 30, 30))  # background color\n",
    "    pygame.draw.rect(screen, player_color, (player_x, player_y, player_size, player_size))\n",
    "    pygame.display.flip()\n",
    "\n",
    "# Clean up\n",
    "pygame.quit()\n",
    "sys.exit()"
   ]
  }
 ],
 "metadata": {
  "kernelspec": {
   "display_name": "xidian-venv",
   "language": "python",
   "name": "python3"
  },
  "language_info": {
   "codemirror_mode": {
    "name": "ipython",
    "version": 3
   },
   "file_extension": ".py",
   "mimetype": "text/x-python",
   "name": "python",
   "nbconvert_exporter": "python",
   "pygments_lexer": "ipython3",
   "version": "3.11.13"
  }
 },
 "nbformat": 4,
 "nbformat_minor": 5
}
