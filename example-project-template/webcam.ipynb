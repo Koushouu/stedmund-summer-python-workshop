{
 "cells": [
  {
   "cell_type": "markdown",
   "id": "8166ff24",
   "metadata": {},
   "source": [
    "# Interact with webcam"
   ]
  },
  {
   "cell_type": "markdown",
   "id": "ca9db654",
   "metadata": {},
   "source": [
    "Expansion Ideas\n",
    "- Add face detection with cv2.CascadeClassifier\n",
    "\n",
    "- Overlay emojis, bounding boxes, or labels\n",
    "\n",
    "- Integrate with a trained deep learning model for real-time prediction"
   ]
  },
  {
   "cell_type": "code",
   "execution_count": null,
   "id": "1d5da323",
   "metadata": {},
   "outputs": [],
   "source": [
    "!pip install opencv-python"
   ]
  },
  {
   "cell_type": "code",
   "execution_count": null,
   "id": "88cc7f28",
   "metadata": {},
   "outputs": [],
   "source": [
    "import cv2\n",
    "\n",
    "# Open the default camera (usually the built-in webcam)\n",
    "cap = cv2.VideoCapture(0)\n",
    "\n",
    "if not cap.isOpened():\n",
    "    print(\"Cannot open camera\")\n",
    "    exit()\n",
    "\n",
    "while True:\n",
    "    # Capture frame-by-frame\n",
    "    ret, frame = cap.read()\n",
    "\n",
    "    # If frame is read correctly, ret is True\n",
    "    if not ret:\n",
    "        print(\"Can't receive frame (stream end?). Exiting ...\")\n",
    "        break\n",
    "\n",
    "    # Optional: Flip the image horizontally (mirror effect)\n",
    "    frame = cv2.flip(frame, 1)\n",
    "\n",
    "    # Display the resulting frame\n",
    "    cv2.imshow('Webcam Feed (Press Q to Quit)', frame)\n",
    "\n",
    "    # Press 'q' to quit\n",
    "    if cv2.waitKey(1) & 0xFF == ord('q'):\n",
    "        break\n",
    "\n",
    "# When done, release the capture\n",
    "cap.release()\n",
    "cv2.destroyAllWindows()"
   ]
  },
  {
   "cell_type": "code",
   "execution_count": null,
   "id": "bfe09b39",
   "metadata": {},
   "outputs": [],
   "source": [
    "import matplotlib.pyplot as plt\n",
    "plt.imshow(frame)"
   ]
  }
 ],
 "metadata": {
  "kernelspec": {
   "display_name": "xidian-venv",
   "language": "python",
   "name": "python3"
  },
  "language_info": {
   "codemirror_mode": {
    "name": "ipython",
    "version": 3
   },
   "file_extension": ".py",
   "mimetype": "text/x-python",
   "name": "python",
   "nbconvert_exporter": "python",
   "pygments_lexer": "ipython3",
   "version": "3.11.13"
  }
 },
 "nbformat": 4,
 "nbformat_minor": 5
}
