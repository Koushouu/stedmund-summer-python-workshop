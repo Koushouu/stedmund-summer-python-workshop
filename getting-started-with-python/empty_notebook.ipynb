{
 "cells": [
  {
   "cell_type": "markdown",
   "id": "ea8e1176",
   "metadata": {},
   "source": [
    "# Your python journey starts here!"
   ]
  },
  {
   "cell_type": "code",
   "execution_count": null,
   "id": "27ae18ec",
   "metadata": {},
   "outputs": [],
   "source": [
    "# your code here"
   ]
  }
 ],
 "metadata": {
  "kernelspec": {
   "display_name": "analysis-env",
   "language": "python",
   "name": "python3"
  },
  "language_info": {
   "name": "python",
   "version": "3.11.11"
  }
 },
 "nbformat": 4,
 "nbformat_minor": 5
}
